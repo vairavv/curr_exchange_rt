{
 "cells": [
  {
   "cell_type": "code",
   "execution_count": 36,
   "id": "f5b41082",
   "metadata": {},
   "outputs": [],
   "source": [
    "import requests\n",
    "import pandas as pd\n",
    "from pandas import json_normalize\n",
    "from pandas import to_datetime"
   ]
  },
  {
   "cell_type": "code",
   "execution_count": 3,
   "id": "5b77b2d4",
   "metadata": {},
   "outputs": [],
   "source": [
    "api_endpoint ='https://openexchangerates.org/api/latest.json?app_id=18e9471057894800a18b0192b52be7f8'"
   ]
  },
  {
   "cell_type": "code",
   "execution_count": 4,
   "id": "15fe2300",
   "metadata": {},
   "outputs": [],
   "source": [
    "#res=requests.get(api_endpoint,params={'symbols':'MYR'})\n",
    "\n",
    "res=requests.get(api_endpoint)"
   ]
  },
  {
   "cell_type": "code",
   "execution_count": 5,
   "id": "06bf8a58",
   "metadata": {},
   "outputs": [
    {
     "data": {
      "text/plain": [
       "'OK'"
      ]
     },
     "execution_count": 5,
     "metadata": {},
     "output_type": "execute_result"
    }
   ],
   "source": [
    "res.reason"
   ]
  },
  {
   "cell_type": "code",
   "execution_count": 6,
   "id": "c45890a5",
   "metadata": {},
   "outputs": [],
   "source": [
    "if res.status_code==200:\n",
    "    data=res.json()\n",
    "else:\n",
    "    print(f'error_message:{res.reason}')"
   ]
  },
  {
   "cell_type": "code",
   "execution_count": 7,
   "id": "27fd8909",
   "metadata": {},
   "outputs": [
    {
     "name": "stdout",
     "output_type": "stream",
     "text": [
      "{'disclaimer': 'Usage subject to terms: https://openexchangerates.org/terms', 'license': 'https://openexchangerates.org/license', 'timestamp': 1709449213, 'base': 'USD', 'rates': {'AED': 3.673, 'AFN': 72.50001, 'ALL': 95.766721, 'AMD': 402.874435, 'ANG': 1.801459, 'AOA': 832, 'ARS': 843.25, 'AUD': 1.53025, 'AWG': 1.8025, 'AZN': 1.7, 'BAM': 1.801833, 'BBD': 2, 'BDT': 109.70727, 'BGN': 1.8052, 'BHD': 0.376883, 'BIF': 2867, 'BMD': 1, 'BND': 1.341932, 'BOB': 6.887466, 'BRL': 4.9547, 'BSD': 1, 'BTC': 1.6156397e-05, 'BTN': 82.857141, 'BWP': 13.768635, 'BYN': 3.271108, 'BZD': 2.014792, 'CAD': 1.35785, 'CDF': 2770, 'CHF': 0.884254, 'CLF': 0.03507, 'CLP': 961.538462, 'CNH': 7.203, 'CNY': 7.1964, 'COP': 3913.12355, 'CRC': 511.759601, 'CUC': 1, 'CUP': 25.75, 'CVE': 101.584607, 'CZK': 23.388, 'DJF': 177.483943, 'DKK': 6.8771, 'DOP': 58.7, 'DZD': 134.793, 'EGP': 30.9, 'ERN': 15, 'ETB': 56.8, 'EUR': 0.92205, 'FJD': 2.2452, 'FKP': 0.790077, 'GBP': 0.790077, 'GEL': 2.65, 'GGP': 0.790077, 'GHS': 12.658345, 'GIP': 0.790077, 'GMD': 67.925, 'GNF': 8600, 'GTQ': 7.785711, 'GYD': 209.120024, 'HKD': 7.8288, 'HNL': 24.765, 'HRK': 6.95078, 'HTG': 132.525837, 'HUF': 363.62, 'IDR': 15701.95, 'ILS': 3.5661, 'IMP': 0.790077, 'INR': 82.84635, 'IQD': 1305.726575, 'IRR': 42042.5, 'ISK': 138.1, 'JEP': 0.790077, 'JMD': 155.920719, 'JOD': 0.709, 'JPY': 150.09493521, 'KES': 144.023208, 'KGS': 89.4207, 'KHR': 4053.623994, 'KMF': 454.525146, 'KPW': 900, 'KRW': 1331.9, 'KWD': 0.3078, 'KYD': 0.833029, 'KZT': 450.817649, 'LAK': 20823.238826, 'LBP': 89255.055125, 'LKR': 308.35186, 'LRD': 191.749975, 'LSL': 19.107284, 'LYD': 4.835, 'MAD': 10.036851, 'MDL': 17.710173, 'MGA': 4525, 'MKD': 56.773684, 'MMK': 2099.053043, 'MNT': 3450, 'MOP': 8.059815, 'MRU': 39.91, 'MUR': 45.789765, 'MVR': 15.4, 'MWK': 1683, 'MXN': 17.0159, 'MYR': 4.7455, 'MZN': 63.850001, 'NAD': 19.107284, 'NGN': 1582.294907, 'NIO': 36.685248, 'NOK': 10.519702, 'NPR': 132.571439, 'NZD': 1.637734, 'OMR': 0.384908, 'PAB': 1, 'PEN': 3.76876, 'PGK': 3.73005, 'PHP': 56.027507, 'PKR': 278.330259, 'PLN': 3.983509, 'PYG': 7286.367969, 'QAR': 3.64075, 'RON': 4.5841, 'RSD': 108.138, 'RUB': 91.743119, 'RWF': 1275, 'SAR': 3.750254, 'SBD': 8.475946, 'SCR': 13.747521, 'SDG': 601, 'SEK': 10.359745, 'SGD': 1.3448, 'SHP': 0.790077, 'SLL': 20969.5, 'SOS': 571.5, 'SRD': 35.395, 'SSP': 130.26, 'STD': 22281.8, 'STN': 22.85, 'SVC': 8.745906, 'SYP': 2512.53, 'SZL': 19.103598, 'THB': 35.801742, 'TJS': 10.945216, 'TMT': 3.51, 'TND': 3.125, 'TOP': 2.372965, 'TRY': 31.389898, 'TTD': 6.783419, 'TWD': 31.5743, 'TZS': 2548.996913, 'UAH': 38.149758, 'UGX': 3911.900164, 'USD': 1, 'UYU': 39.068992, 'UZS': 12472.982639, 'VES': 36.035053, 'VND': 24655, 'VUV': 118.722, 'WST': 2.8, 'XAF': 604.825152, 'XAG': 0.04322549, 'XAU': 0.00048018, 'XCD': 2.70255, 'XDR': 0.753172, 'XOF': 604.825152, 'XPD': 0.00104941, 'XPF': 110.029833, 'XPT': 0.0011273, 'YER': 250.325036, 'ZAR': 19.06204, 'ZMW': 23.497167, 'ZWL': 322}}\n"
     ]
    }
   ],
   "source": [
    "print(data)"
   ]
  },
  {
   "cell_type": "code",
   "execution_count": 8,
   "id": "ebd9ceb2",
   "metadata": {},
   "outputs": [
    {
     "data": {
      "text/plain": [
       "dict"
      ]
     },
     "execution_count": 8,
     "metadata": {},
     "output_type": "execute_result"
    }
   ],
   "source": [
    "type(data)"
   ]
  },
  {
   "cell_type": "code",
   "execution_count": 16,
   "id": "13ed8748",
   "metadata": {},
   "outputs": [],
   "source": [
    "df_latest_rate =json_normalize(data,sep='_')"
   ]
  },
  {
   "cell_type": "code",
   "execution_count": 17,
   "id": "2e4e8a39",
   "metadata": {},
   "outputs": [
    {
     "data": {
      "text/html": [
       "<div>\n",
       "<style scoped>\n",
       "    .dataframe tbody tr th:only-of-type {\n",
       "        vertical-align: middle;\n",
       "    }\n",
       "\n",
       "    .dataframe tbody tr th {\n",
       "        vertical-align: top;\n",
       "    }\n",
       "\n",
       "    .dataframe thead th {\n",
       "        text-align: right;\n",
       "    }\n",
       "</style>\n",
       "<table border=\"1\" class=\"dataframe\">\n",
       "  <thead>\n",
       "    <tr style=\"text-align: right;\">\n",
       "      <th></th>\n",
       "      <th>disclaimer</th>\n",
       "      <th>license</th>\n",
       "      <th>timestamp</th>\n",
       "      <th>base</th>\n",
       "      <th>rates_AED</th>\n",
       "      <th>rates_AFN</th>\n",
       "      <th>rates_ALL</th>\n",
       "      <th>rates_AMD</th>\n",
       "      <th>rates_ANG</th>\n",
       "      <th>rates_AOA</th>\n",
       "      <th>...</th>\n",
       "      <th>rates_XCD</th>\n",
       "      <th>rates_XDR</th>\n",
       "      <th>rates_XOF</th>\n",
       "      <th>rates_XPD</th>\n",
       "      <th>rates_XPF</th>\n",
       "      <th>rates_XPT</th>\n",
       "      <th>rates_YER</th>\n",
       "      <th>rates_ZAR</th>\n",
       "      <th>rates_ZMW</th>\n",
       "      <th>rates_ZWL</th>\n",
       "    </tr>\n",
       "  </thead>\n",
       "  <tbody>\n",
       "    <tr>\n",
       "      <th>0</th>\n",
       "      <td>Usage subject to terms: https://openexchangera...</td>\n",
       "      <td>https://openexchangerates.org/license</td>\n",
       "      <td>1709449213</td>\n",
       "      <td>USD</td>\n",
       "      <td>3.673</td>\n",
       "      <td>72.50001</td>\n",
       "      <td>95.766721</td>\n",
       "      <td>402.874435</td>\n",
       "      <td>1.801459</td>\n",
       "      <td>832</td>\n",
       "      <td>...</td>\n",
       "      <td>2.70255</td>\n",
       "      <td>0.753172</td>\n",
       "      <td>604.825152</td>\n",
       "      <td>0.001049</td>\n",
       "      <td>110.029833</td>\n",
       "      <td>0.001127</td>\n",
       "      <td>250.325036</td>\n",
       "      <td>19.06204</td>\n",
       "      <td>23.497167</td>\n",
       "      <td>322</td>\n",
       "    </tr>\n",
       "  </tbody>\n",
       "</table>\n",
       "<p>1 rows × 173 columns</p>\n",
       "</div>"
      ],
      "text/plain": [
       "                                          disclaimer  \\\n",
       "0  Usage subject to terms: https://openexchangera...   \n",
       "\n",
       "                                 license   timestamp base  rates_AED  \\\n",
       "0  https://openexchangerates.org/license  1709449213  USD      3.673   \n",
       "\n",
       "   rates_AFN  rates_ALL   rates_AMD  rates_ANG  rates_AOA  ...  rates_XCD  \\\n",
       "0   72.50001  95.766721  402.874435   1.801459        832  ...    2.70255   \n",
       "\n",
       "   rates_XDR   rates_XOF  rates_XPD   rates_XPF  rates_XPT   rates_YER  \\\n",
       "0   0.753172  604.825152   0.001049  110.029833   0.001127  250.325036   \n",
       "\n",
       "   rates_ZAR  rates_ZMW  rates_ZWL  \n",
       "0   19.06204  23.497167        322  \n",
       "\n",
       "[1 rows x 173 columns]"
      ]
     },
     "execution_count": 17,
     "metadata": {},
     "output_type": "execute_result"
    }
   ],
   "source": [
    "df_latest_rate.head()"
   ]
  },
  {
   "cell_type": "code",
   "execution_count": 18,
   "id": "a5586321",
   "metadata": {},
   "outputs": [],
   "source": [
    "df_latest_rate =df_latest_rate.drop(columns=['disclaimer','license'])"
   ]
  },
  {
   "cell_type": "code",
   "execution_count": 19,
   "id": "474590ce",
   "metadata": {},
   "outputs": [],
   "source": [
    "df_latest_rate = df_latest_rate.melt(id_vars=['timestamp','base'],var_name='transaction_curr',value_name='exchange_rt')"
   ]
  },
  {
   "cell_type": "code",
   "execution_count": 20,
   "id": "9f085305",
   "metadata": {},
   "outputs": [],
   "source": [
    "df_latest_rate[['var1','txn_curr']] =df_latest_rate['transaction_curr'].str.split('_',expand=True)"
   ]
  },
  {
   "cell_type": "code",
   "execution_count": 21,
   "id": "65c55571",
   "metadata": {},
   "outputs": [
    {
     "name": "stdout",
     "output_type": "stream",
     "text": [
      "      timestamp base transaction_curr  exchange_rt   var1 txn_curr\n",
      "0    1709449213  USD        rates_AED     3.673000  rates      AED\n",
      "1    1709449213  USD        rates_AFN    72.500010  rates      AFN\n",
      "2    1709449213  USD        rates_ALL    95.766721  rates      ALL\n",
      "3    1709449213  USD        rates_AMD   402.874435  rates      AMD\n",
      "4    1709449213  USD        rates_ANG     1.801459  rates      ANG\n",
      "..          ...  ...              ...          ...    ...      ...\n",
      "164  1709449213  USD        rates_XPT     0.001127  rates      XPT\n",
      "165  1709449213  USD        rates_YER   250.325036  rates      YER\n",
      "166  1709449213  USD        rates_ZAR    19.062040  rates      ZAR\n",
      "167  1709449213  USD        rates_ZMW    23.497167  rates      ZMW\n",
      "168  1709449213  USD        rates_ZWL   322.000000  rates      ZWL\n",
      "\n",
      "[169 rows x 6 columns]\n"
     ]
    }
   ],
   "source": [
    "print(df_latest_rate)"
   ]
  },
  {
   "cell_type": "code",
   "execution_count": 22,
   "id": "937efe20",
   "metadata": {},
   "outputs": [
    {
     "name": "stdout",
     "output_type": "stream",
     "text": [
      "<class 'pandas.core.frame.DataFrame'>\n",
      "RangeIndex: 169 entries, 0 to 168\n",
      "Data columns (total 6 columns):\n",
      " #   Column            Non-Null Count  Dtype  \n",
      "---  ------            --------------  -----  \n",
      " 0   timestamp         169 non-null    int64  \n",
      " 1   base              169 non-null    object \n",
      " 2   transaction_curr  169 non-null    object \n",
      " 3   exchange_rt       169 non-null    float64\n",
      " 4   var1              169 non-null    object \n",
      " 5   txn_curr          169 non-null    object \n",
      "dtypes: float64(1), int64(1), object(4)\n",
      "memory usage: 8.0+ KB\n"
     ]
    }
   ],
   "source": [
    "df_latest_rate.info()"
   ]
  },
  {
   "cell_type": "code",
   "execution_count": 23,
   "id": "dec9bca6",
   "metadata": {},
   "outputs": [],
   "source": [
    "df_latest_rate =df_latest_rate.drop(columns='var1')"
   ]
  },
  {
   "cell_type": "code",
   "execution_count": 24,
   "id": "b001af85",
   "metadata": {},
   "outputs": [
    {
     "data": {
      "text/html": [
       "<div>\n",
       "<style scoped>\n",
       "    .dataframe tbody tr th:only-of-type {\n",
       "        vertical-align: middle;\n",
       "    }\n",
       "\n",
       "    .dataframe tbody tr th {\n",
       "        vertical-align: top;\n",
       "    }\n",
       "\n",
       "    .dataframe thead th {\n",
       "        text-align: right;\n",
       "    }\n",
       "</style>\n",
       "<table border=\"1\" class=\"dataframe\">\n",
       "  <thead>\n",
       "    <tr style=\"text-align: right;\">\n",
       "      <th></th>\n",
       "      <th>timestamp</th>\n",
       "      <th>base</th>\n",
       "      <th>transaction_curr</th>\n",
       "      <th>exchange_rt</th>\n",
       "      <th>txn_curr</th>\n",
       "    </tr>\n",
       "  </thead>\n",
       "  <tbody>\n",
       "    <tr>\n",
       "      <th>0</th>\n",
       "      <td>1709449213</td>\n",
       "      <td>USD</td>\n",
       "      <td>rates_AED</td>\n",
       "      <td>3.673000</td>\n",
       "      <td>AED</td>\n",
       "    </tr>\n",
       "    <tr>\n",
       "      <th>1</th>\n",
       "      <td>1709449213</td>\n",
       "      <td>USD</td>\n",
       "      <td>rates_AFN</td>\n",
       "      <td>72.500010</td>\n",
       "      <td>AFN</td>\n",
       "    </tr>\n",
       "    <tr>\n",
       "      <th>2</th>\n",
       "      <td>1709449213</td>\n",
       "      <td>USD</td>\n",
       "      <td>rates_ALL</td>\n",
       "      <td>95.766721</td>\n",
       "      <td>ALL</td>\n",
       "    </tr>\n",
       "    <tr>\n",
       "      <th>3</th>\n",
       "      <td>1709449213</td>\n",
       "      <td>USD</td>\n",
       "      <td>rates_AMD</td>\n",
       "      <td>402.874435</td>\n",
       "      <td>AMD</td>\n",
       "    </tr>\n",
       "    <tr>\n",
       "      <th>4</th>\n",
       "      <td>1709449213</td>\n",
       "      <td>USD</td>\n",
       "      <td>rates_ANG</td>\n",
       "      <td>1.801459</td>\n",
       "      <td>ANG</td>\n",
       "    </tr>\n",
       "  </tbody>\n",
       "</table>\n",
       "</div>"
      ],
      "text/plain": [
       "    timestamp base transaction_curr  exchange_rt txn_curr\n",
       "0  1709449213  USD        rates_AED     3.673000      AED\n",
       "1  1709449213  USD        rates_AFN    72.500010      AFN\n",
       "2  1709449213  USD        rates_ALL    95.766721      ALL\n",
       "3  1709449213  USD        rates_AMD   402.874435      AMD\n",
       "4  1709449213  USD        rates_ANG     1.801459      ANG"
      ]
     },
     "execution_count": 24,
     "metadata": {},
     "output_type": "execute_result"
    }
   ],
   "source": [
    "df_latest_rate.head()"
   ]
  },
  {
   "cell_type": "code",
   "execution_count": 39,
   "id": "2c2954e4",
   "metadata": {},
   "outputs": [],
   "source": [
    "df_latest_rate.timestamp =to_datetime(df_latest_rate.timestamp, unit='s')"
   ]
  },
  {
   "cell_type": "code",
   "execution_count": 40,
   "id": "34063790",
   "metadata": {},
   "outputs": [
    {
     "data": {
      "text/html": [
       "<div>\n",
       "<style scoped>\n",
       "    .dataframe tbody tr th:only-of-type {\n",
       "        vertical-align: middle;\n",
       "    }\n",
       "\n",
       "    .dataframe tbody tr th {\n",
       "        vertical-align: top;\n",
       "    }\n",
       "\n",
       "    .dataframe thead th {\n",
       "        text-align: right;\n",
       "    }\n",
       "</style>\n",
       "<table border=\"1\" class=\"dataframe\">\n",
       "  <thead>\n",
       "    <tr style=\"text-align: right;\">\n",
       "      <th></th>\n",
       "      <th>timestamp</th>\n",
       "      <th>base</th>\n",
       "      <th>transaction_curr</th>\n",
       "      <th>exchange_rt</th>\n",
       "      <th>txn_curr</th>\n",
       "    </tr>\n",
       "  </thead>\n",
       "  <tbody>\n",
       "    <tr>\n",
       "      <th>0</th>\n",
       "      <td>2024-03-03 07:00:13</td>\n",
       "      <td>USD</td>\n",
       "      <td>rates_AED</td>\n",
       "      <td>3.673000</td>\n",
       "      <td>AED</td>\n",
       "    </tr>\n",
       "    <tr>\n",
       "      <th>1</th>\n",
       "      <td>2024-03-03 07:00:13</td>\n",
       "      <td>USD</td>\n",
       "      <td>rates_AFN</td>\n",
       "      <td>72.500010</td>\n",
       "      <td>AFN</td>\n",
       "    </tr>\n",
       "    <tr>\n",
       "      <th>2</th>\n",
       "      <td>2024-03-03 07:00:13</td>\n",
       "      <td>USD</td>\n",
       "      <td>rates_ALL</td>\n",
       "      <td>95.766721</td>\n",
       "      <td>ALL</td>\n",
       "    </tr>\n",
       "    <tr>\n",
       "      <th>3</th>\n",
       "      <td>2024-03-03 07:00:13</td>\n",
       "      <td>USD</td>\n",
       "      <td>rates_AMD</td>\n",
       "      <td>402.874435</td>\n",
       "      <td>AMD</td>\n",
       "    </tr>\n",
       "    <tr>\n",
       "      <th>4</th>\n",
       "      <td>2024-03-03 07:00:13</td>\n",
       "      <td>USD</td>\n",
       "      <td>rates_ANG</td>\n",
       "      <td>1.801459</td>\n",
       "      <td>ANG</td>\n",
       "    </tr>\n",
       "  </tbody>\n",
       "</table>\n",
       "</div>"
      ],
      "text/plain": [
       "            timestamp base transaction_curr  exchange_rt txn_curr\n",
       "0 2024-03-03 07:00:13  USD        rates_AED     3.673000      AED\n",
       "1 2024-03-03 07:00:13  USD        rates_AFN    72.500010      AFN\n",
       "2 2024-03-03 07:00:13  USD        rates_ALL    95.766721      ALL\n",
       "3 2024-03-03 07:00:13  USD        rates_AMD   402.874435      AMD\n",
       "4 2024-03-03 07:00:13  USD        rates_ANG     1.801459      ANG"
      ]
     },
     "execution_count": 40,
     "metadata": {},
     "output_type": "execute_result"
    }
   ],
   "source": [
    "df_latest_rate.head()"
   ]
  },
  {
   "cell_type": "code",
   "execution_count": 43,
   "id": "da5cb021",
   "metadata": {},
   "outputs": [],
   "source": [
    "df_latest_rate['date']= df_latest_rate.timestamp.dt.date"
   ]
  },
  {
   "cell_type": "code",
   "execution_count": 44,
   "id": "1628476e",
   "metadata": {},
   "outputs": [],
   "source": [
    "df_latest_rate['time'] = df_latest_rate.timestamp.dt.time"
   ]
  },
  {
   "cell_type": "code",
   "execution_count": 45,
   "id": "fbd2e2d9",
   "metadata": {},
   "outputs": [
    {
     "data": {
      "text/html": [
       "<div>\n",
       "<style scoped>\n",
       "    .dataframe tbody tr th:only-of-type {\n",
       "        vertical-align: middle;\n",
       "    }\n",
       "\n",
       "    .dataframe tbody tr th {\n",
       "        vertical-align: top;\n",
       "    }\n",
       "\n",
       "    .dataframe thead th {\n",
       "        text-align: right;\n",
       "    }\n",
       "</style>\n",
       "<table border=\"1\" class=\"dataframe\">\n",
       "  <thead>\n",
       "    <tr style=\"text-align: right;\">\n",
       "      <th></th>\n",
       "      <th>timestamp</th>\n",
       "      <th>base</th>\n",
       "      <th>transaction_curr</th>\n",
       "      <th>exchange_rt</th>\n",
       "      <th>txn_curr</th>\n",
       "      <th>date</th>\n",
       "      <th>time</th>\n",
       "    </tr>\n",
       "  </thead>\n",
       "  <tbody>\n",
       "    <tr>\n",
       "      <th>0</th>\n",
       "      <td>2024-03-03 07:00:13</td>\n",
       "      <td>USD</td>\n",
       "      <td>rates_AED</td>\n",
       "      <td>3.673000</td>\n",
       "      <td>AED</td>\n",
       "      <td>2024-03-03</td>\n",
       "      <td>07:00:13</td>\n",
       "    </tr>\n",
       "    <tr>\n",
       "      <th>1</th>\n",
       "      <td>2024-03-03 07:00:13</td>\n",
       "      <td>USD</td>\n",
       "      <td>rates_AFN</td>\n",
       "      <td>72.500010</td>\n",
       "      <td>AFN</td>\n",
       "      <td>2024-03-03</td>\n",
       "      <td>07:00:13</td>\n",
       "    </tr>\n",
       "    <tr>\n",
       "      <th>2</th>\n",
       "      <td>2024-03-03 07:00:13</td>\n",
       "      <td>USD</td>\n",
       "      <td>rates_ALL</td>\n",
       "      <td>95.766721</td>\n",
       "      <td>ALL</td>\n",
       "      <td>2024-03-03</td>\n",
       "      <td>07:00:13</td>\n",
       "    </tr>\n",
       "    <tr>\n",
       "      <th>3</th>\n",
       "      <td>2024-03-03 07:00:13</td>\n",
       "      <td>USD</td>\n",
       "      <td>rates_AMD</td>\n",
       "      <td>402.874435</td>\n",
       "      <td>AMD</td>\n",
       "      <td>2024-03-03</td>\n",
       "      <td>07:00:13</td>\n",
       "    </tr>\n",
       "    <tr>\n",
       "      <th>4</th>\n",
       "      <td>2024-03-03 07:00:13</td>\n",
       "      <td>USD</td>\n",
       "      <td>rates_ANG</td>\n",
       "      <td>1.801459</td>\n",
       "      <td>ANG</td>\n",
       "      <td>2024-03-03</td>\n",
       "      <td>07:00:13</td>\n",
       "    </tr>\n",
       "  </tbody>\n",
       "</table>\n",
       "</div>"
      ],
      "text/plain": [
       "            timestamp base transaction_curr  exchange_rt txn_curr        date  \\\n",
       "0 2024-03-03 07:00:13  USD        rates_AED     3.673000      AED  2024-03-03   \n",
       "1 2024-03-03 07:00:13  USD        rates_AFN    72.500010      AFN  2024-03-03   \n",
       "2 2024-03-03 07:00:13  USD        rates_ALL    95.766721      ALL  2024-03-03   \n",
       "3 2024-03-03 07:00:13  USD        rates_AMD   402.874435      AMD  2024-03-03   \n",
       "4 2024-03-03 07:00:13  USD        rates_ANG     1.801459      ANG  2024-03-03   \n",
       "\n",
       "       time  \n",
       "0  07:00:13  \n",
       "1  07:00:13  \n",
       "2  07:00:13  \n",
       "3  07:00:13  \n",
       "4  07:00:13  "
      ]
     },
     "execution_count": 45,
     "metadata": {},
     "output_type": "execute_result"
    }
   ],
   "source": [
    "df_latest_rate.head()"
   ]
  },
  {
   "cell_type": "code",
   "execution_count": 47,
   "id": "19617f82",
   "metadata": {},
   "outputs": [],
   "source": [
    "df_latest_rate =df_latest_rate.drop(columns=['timestamp','transaction_curr'])"
   ]
  },
  {
   "cell_type": "code",
   "execution_count": 50,
   "id": "c0ba9e82",
   "metadata": {},
   "outputs": [],
   "source": [
    "df_latest_rate.to_csv(r'C:\\Users\\Muthu\\Music\\currency_exchange.csv',index=False)"
   ]
  },
  {
   "cell_type": "code",
   "execution_count": null,
   "id": "a96f8364",
   "metadata": {},
   "outputs": [],
   "source": []
  },
  {
   "cell_type": "code",
   "execution_count": null,
   "id": "e9e2b7e9",
   "metadata": {},
   "outputs": [],
   "source": []
  },
  {
   "cell_type": "code",
   "execution_count": null,
   "id": "ec019190",
   "metadata": {},
   "outputs": [],
   "source": []
  },
  {
   "cell_type": "code",
   "execution_count": 69,
   "id": "8fe3162f",
   "metadata": {},
   "outputs": [],
   "source": [
    "api_endpoint_history='https://openexchangerates.org/api/historical/2023-03-02.json?app_id=18e9471057894800a18b0192b52be7f8'"
   ]
  },
  {
   "cell_type": "code",
   "execution_count": 75,
   "id": "1d807158",
   "metadata": {},
   "outputs": [],
   "source": [
    "hist_rt_res =requests.get(api_endpoint_history,params={'symbols':'MYR'})"
   ]
  },
  {
   "cell_type": "code",
   "execution_count": 76,
   "id": "aa3dc2ee",
   "metadata": {},
   "outputs": [
    {
     "data": {
      "text/plain": [
       "'OK'"
      ]
     },
     "execution_count": 76,
     "metadata": {},
     "output_type": "execute_result"
    }
   ],
   "source": [
    "hist_rt_res.reason"
   ]
  },
  {
   "cell_type": "code",
   "execution_count": null,
   "id": "ebe743f5",
   "metadata": {},
   "outputs": [],
   "source": []
  },
  {
   "cell_type": "code",
   "execution_count": null,
   "id": "5fa3c4c9",
   "metadata": {},
   "outputs": [],
   "source": []
  }
 ],
 "metadata": {
  "kernelspec": {
   "display_name": "Python 3 (ipykernel)",
   "language": "python",
   "name": "python3"
  },
  "language_info": {
   "codemirror_mode": {
    "name": "ipython",
    "version": 3
   },
   "file_extension": ".py",
   "mimetype": "text/x-python",
   "name": "python",
   "nbconvert_exporter": "python",
   "pygments_lexer": "ipython3",
   "version": "3.9.7"
  }
 },
 "nbformat": 4,
 "nbformat_minor": 5
}
